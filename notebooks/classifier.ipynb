{
 "cells": [
  {
   "cell_type": "code",
   "execution_count": 1,
   "metadata": {
    "collapsed": false
   },
   "outputs": [
    {
     "name": "stderr",
     "output_type": "stream",
     "text": [
      "Using TensorFlow backend.\n"
     ]
    },
    {
     "name": "stdout",
     "output_type": "stream",
     "text": [
      "Couldn't import dot_parser, loading of dot files will not be possible.\n"
     ]
    },
    {
     "name": "stderr",
     "output_type": "stream",
     "text": [
      "/usr/local/lib/python2.7/dist-packages/matplotlib/font_manager.py:273: UserWarning: Matplotlib is building the font cache using fc-list. This may take a moment.\n",
      "  warnings.warn('Matplotlib is building the font cache using fc-list. This may take a moment.')\n"
     ]
    },
    {
     "name": "stdout",
     "output_type": "stream",
     "text": [
      "1.3.0 2.0.8\n"
     ]
    }
   ],
   "source": [
    "from __future__ import print_function\n",
    "import numpy as np\n",
    "import glob\n",
    "import pandas as pd\n",
    "from random import shuffle, seed\n",
    "\n",
    "\n",
    "seed(2017)\n",
    "np.random.seed(2017)\n",
    "\n",
    "import tensorflow\n",
    "import keras\n",
    "from keras.models import Sequential\n",
    "from keras.layers import Dense, Dropout, Flatten\n",
    "from keras.layers import Conv2D, MaxPooling2D\n",
    "from keras import backend as K\n",
    "from keras.callbacks import EarlyStopping\n",
    "%matplotlib inline\n",
    "import matplotlib.pyplot as plt\n",
    "#from keras.preprocessing.image import ImageDataGenerator\n",
    "import cv2\n",
    "WIDTH  = 64\n",
    "HEIGHT = 64\n",
    "\n",
    "\n",
    "batch_size = 16\n",
    "num_classes = 3\n",
    "epochs = 20\n",
    " \n",
    "print( tensorflow.__version__,keras.__version__)"
   ]
  },
  {
   "cell_type": "code",
   "execution_count": 2,
   "metadata": {
    "collapsed": true
   },
   "outputs": [],
   "source": [
    "def build_train_set():\n",
    "    \n",
    "    images =  glob.glob(\"/disk/projects/selfdriving/shared/img4/*.jpg\") \n",
    "    dataset = []\n",
    "    for file in images:\n",
    "        \n",
    "        label = int( file.split(\"_\")[-1].split(\".\")[0] )\n",
    "        if label==4:\n",
    "            continue\n",
    "        #print(label)\n",
    "        img = cv2.imread(file)\n",
    "        \n",
    "        img = cv2.cvtColor(img, cv2.COLOR_BGR2RGB)\n",
    "        img = cv2.resize( img, (WIDTH, HEIGHT))\n",
    "        \n",
    "        \n",
    "        ## flip image for data augmentation\n",
    "        img2 = cv2.flip( img.copy(), 1 )\n",
    "        #plt.imshow(img2)\n",
    "        \n",
    "            \n",
    "        dataset.append( (np.array(img), label))\n",
    "        dataset.append( (np.array(img2), label))\n",
    "\n",
    "    shuffle(dataset)\n",
    "        \n",
    "    return np.array(dataset)"
   ]
  },
  {
   "cell_type": "code",
   "execution_count": 4,
   "metadata": {
    "collapsed": false
   },
   "outputs": [
    {
     "data": {
      "text/plain": [
       "1010"
      ]
     },
     "execution_count": 4,
     "metadata": {},
     "output_type": "execute_result"
    }
   ],
   "source": [
    "dataset = build_train_set()\n",
    "\n",
    "len(dataset)"
   ]
  },
  {
   "cell_type": "code",
   "execution_count": 5,
   "metadata": {
    "collapsed": true
   },
   "outputs": [],
   "source": [
    "r = np.random.rand( dataset.shape[0])\n",
    "train = dataset[r<.8]\n",
    "test = dataset[r>=.8]"
   ]
  },
  {
   "cell_type": "code",
   "execution_count": 7,
   "metadata": {
    "collapsed": false
   },
   "outputs": [],
   "source": [
    "train.shape, test.shape\n",
    "x_train = np.array([ img for img in train[:,0]])\n",
    "y_train = train[:,1]\n",
    "\n",
    "x_test = np.array([ img for img in test[:,0]])\n",
    "y_test = test[:,1]"
   ]
  },
  {
   "cell_type": "code",
   "execution_count": 8,
   "metadata": {
    "collapsed": false
   },
   "outputs": [
    {
     "name": "stdout",
     "output_type": "stream",
     "text": [
      "x_train shape: (811, 64, 64, 3)\n",
      "811 train samples\n",
      "199 test samples\n",
      "Train on 811 samples, validate on 199 samples\n",
      "Epoch 1/20\n",
      "811/811 [==============================] - 19s - loss: 0.8612 - acc: 0.6597 - val_loss: 1.2203 - val_acc: 0.6784\n",
      "Epoch 2/20\n",
      "811/811 [==============================] - 19s - loss: 0.6697 - acc: 0.7226 - val_loss: 0.5781 - val_acc: 0.7990\n",
      "Epoch 3/20\n",
      "811/811 [==============================] - 19s - loss: 0.4450 - acc: 0.8175 - val_loss: 0.3222 - val_acc: 0.8543\n",
      "Epoch 4/20\n",
      "811/811 [==============================] - 19s - loss: 0.2958 - acc: 0.8804 - val_loss: 0.2077 - val_acc: 0.9246\n",
      "Epoch 5/20\n",
      "811/811 [==============================] - 20s - loss: 0.1863 - acc: 0.9273 - val_loss: 0.1850 - val_acc: 0.9146\n",
      "Epoch 6/20\n",
      "811/811 [==============================] - 20s - loss: 0.1254 - acc: 0.9581 - val_loss: 0.1582 - val_acc: 0.9347\n",
      "Epoch 7/20\n",
      "811/811 [==============================] - 21s - loss: 0.0941 - acc: 0.9704 - val_loss: 0.1135 - val_acc: 0.9598\n",
      "Epoch 8/20\n",
      "811/811 [==============================] - 20s - loss: 0.0840 - acc: 0.9753 - val_loss: 0.0957 - val_acc: 0.9698\n",
      "Epoch 9/20\n",
      "811/811 [==============================] - 21s - loss: 0.0579 - acc: 0.9790 - val_loss: 0.0702 - val_acc: 0.9749\n",
      "Epoch 10/20\n",
      "811/811 [==============================] - 22s - loss: 0.0466 - acc: 0.9840 - val_loss: 0.0860 - val_acc: 0.9698\n",
      "Epoch 11/20\n",
      "811/811 [==============================] - 22s - loss: 0.0365 - acc: 0.9889 - val_loss: 0.1570 - val_acc: 0.9347\n",
      "Epoch 12/20\n",
      "811/811 [==============================] - 22s - loss: 0.0395 - acc: 0.9827 - val_loss: 0.0693 - val_acc: 0.9698\n",
      "Epoch 13/20\n",
      "811/811 [==============================] - 20s - loss: 0.0374 - acc: 0.9889 - val_loss: 0.0709 - val_acc: 0.9799\n",
      "Epoch 14/20\n",
      "811/811 [==============================] - 21s - loss: 0.0199 - acc: 0.9951 - val_loss: 0.0585 - val_acc: 0.9749\n",
      "Epoch 15/20\n",
      "811/811 [==============================] - 21s - loss: 0.0259 - acc: 0.9914 - val_loss: 0.0626 - val_acc: 0.9749\n",
      "Epoch 16/20\n",
      "811/811 [==============================] - 21s - loss: 0.0190 - acc: 0.9914 - val_loss: 0.1532 - val_acc: 0.9598\n",
      "Epoch 17/20\n",
      "811/811 [==============================] - 21s - loss: 0.0153 - acc: 0.9938 - val_loss: 0.0565 - val_acc: 0.9799\n",
      "Epoch 18/20\n",
      "811/811 [==============================] - 22s - loss: 0.0143 - acc: 0.9963 - val_loss: 0.0561 - val_acc: 0.9749\n",
      "Epoch 19/20\n",
      "811/811 [==============================] - 22s - loss: 0.0227 - acc: 0.9914 - val_loss: 0.0409 - val_acc: 0.9849\n",
      "Epoch 20/20\n",
      "811/811 [==============================] - 22s - loss: 0.0065 - acc: 0.9988 - val_loss: 0.0640 - val_acc: 0.9799\n",
      "Test loss: 0.0639601045817\n",
      "Test accuracy: 0.979899497787\n"
     ]
    }
   ],
   "source": [
    "# input image dimensions\n",
    "img_rows, img_cols = WIDTH, HEIGHT\n",
    "\n",
    "\n",
    "if K.image_data_format() == 'channels_first':\n",
    "    input_shape = (3, img_rows, img_cols)\n",
    "else:\n",
    "    input_shape = (img_rows, img_cols, 3)\n",
    "\n",
    "x_train = x_train.astype('float32')\n",
    "x_test = x_test.astype('float32')\n",
    "x_train /= 255\n",
    "x_test /= 255\n",
    "print('x_train shape:', x_train.shape)\n",
    "print(x_train.shape[0], 'train samples')\n",
    "print(x_test.shape[0], 'test samples')\n",
    "\n",
    "\n",
    "es = EarlyStopping(monitor='val_loss', min_delta=0, patience=5, verbose=1, mode='auto')\n",
    "\n",
    "\n",
    "# convert class vectors to binary class matrices\n",
    "y_train = keras.utils.to_categorical(y_train, num_classes)\n",
    "y_test = keras.utils.to_categorical(y_test, num_classes)\n",
    "\n",
    "model = Sequential()\n",
    "model.add(Conv2D(32, kernel_size=(3, 3),\n",
    "                 activation='relu',\n",
    "                 input_shape=input_shape))\n",
    "\n",
    "model.add(Conv2D(64, (3, 3), activation='relu'))\n",
    "model.add(MaxPooling2D(pool_size=(2, 2)))\n",
    "\n",
    "model.add(Conv2D(128, (3, 3), activation='relu'))\n",
    "model.add(MaxPooling2D(pool_size=(2, 2)))\n",
    "\n",
    "model.add(Dropout(0.25))\n",
    "model.add(Flatten())\n",
    "model.add(Dense(256, activation='relu'))\n",
    "model.add(Dense(128, activation='relu'))\n",
    "model.add(Dropout(0.5))\n",
    "model.add(Dense(num_classes, activation='softmax'))\n",
    "\n",
    "model.compile(loss=keras.losses.categorical_crossentropy,\n",
    "              optimizer=keras.optimizers.Adadelta(),\n",
    "              metrics=['accuracy'])\n",
    "\n",
    "model.fit(x_train, y_train,\n",
    "          batch_size=batch_size,\n",
    "          epochs=epochs,\n",
    "          verbose=1,\n",
    "          validation_data=(x_test, y_test),\n",
    "          callbacks =[es]\n",
    "         )\n",
    "score = model.evaluate(x_test, y_test, verbose=0)\n",
    "print('Test loss:', score[0])\n",
    "print('Test accuracy:', score[1])"
   ]
  },
  {
   "cell_type": "code",
   "execution_count": 9,
   "metadata": {
    "collapsed": false
   },
   "outputs": [],
   "source": [
    "model.save(\"/disk/projects/selfdriving/shared/model/model_4.hd5\")"
   ]
  },
  {
   "cell_type": "code",
   "execution_count": null,
   "metadata": {
    "collapsed": true
   },
   "outputs": [],
   "source": []
  },
  {
   "cell_type": "code",
   "execution_count": 10,
   "metadata": {
    "collapsed": false
   },
   "outputs": [],
   "source": [
    "ret = model.predict( x_train[8].reshape( 1, 64,64,3) )"
   ]
  },
  {
   "cell_type": "code",
   "execution_count": 11,
   "metadata": {
    "collapsed": false
   },
   "outputs": [
    {
     "data": {
      "text/plain": [
       "array([[  1.00000000e+00,   2.53532492e-13,   2.75134624e-12]], dtype=float32)"
      ]
     },
     "execution_count": 11,
     "metadata": {},
     "output_type": "execute_result"
    }
   ],
   "source": [
    "ret"
   ]
  },
  {
   "cell_type": "code",
   "execution_count": 12,
   "metadata": {
    "collapsed": false
   },
   "outputs": [
    {
     "data": {
      "text/plain": [
       "0"
      ]
     },
     "execution_count": 12,
     "metadata": {},
     "output_type": "execute_result"
    }
   ],
   "source": [
    "np.argmax(ret)"
   ]
  },
  {
   "cell_type": "code",
   "execution_count": 13,
   "metadata": {
    "collapsed": false
   },
   "outputs": [
    {
     "data": {
      "text/plain": [
       "<matplotlib.image.AxesImage at 0x7f26fc108d90>"
      ]
     },
     "execution_count": 13,
     "metadata": {},
     "output_type": "execute_result"
    },
    {
     "data": {
      "image/png": "[encoded data removed]",
      "text/plain": [
       "<matplotlib.figure.Figure at 0x7f27c00e71d0>"
      ]
     },
     "metadata": {},
     "output_type": "display_data"
    }
   ],
   "source": [
    "plt.imshow( x_train[8])"
   ]
  },
  {
   "cell_type": "code",
   "execution_count": 14,
   "metadata": {
    "collapsed": false
   },
   "outputs": [],
   "source": [
    "del model\n",
    "\n",
    "from keras.models import load_model\n",
    "model = load_model(\"/disk/projects/selfdriving/shared/model/model_4.hd5\")"
   ]
  },
  {
   "cell_type": "code",
   "execution_count": 18,
   "metadata": {
    "collapsed": false
   },
   "outputs": [
    {
     "name": "stdout",
     "output_type": "stream",
     "text": [
      "CPU times: user 21.5 ms, sys: 8.65 ms, total: 30.1 ms\n",
      "Wall time: 10.7 ms\n"
     ]
    }
   ],
   "source": [
    "%time ret = model.predict( x_train[8].reshape( 1, 64,64,3) )"
   ]
  },
  {
   "cell_type": "code",
   "execution_count": 19,
   "metadata": {
    "collapsed": false
   },
   "outputs": [
    {
     "data": {
      "text/plain": [
       "array([[  1.00000000e+00,   2.53532492e-13,   2.75134624e-12]], dtype=float32)"
      ]
     },
     "execution_count": 19,
     "metadata": {},
     "output_type": "execute_result"
    }
   ],
   "source": [
    "ret"
   ]
  },
  {
   "cell_type": "code",
   "execution_count": null,
   "metadata": {
    "collapsed": true
   },
   "outputs": [],
   "source": []
  }
 ],
 "metadata": {
  "kernelspec": {
   "display_name": "Python 2",
   "language": "python",
   "name": "python2"
  },
  "language_info": {
   "codemirror_mode": {
    "name": "ipython",
    "version": 2
   },
   "file_extension": ".py",
   "mimetype": "text/x-python",
   "name": "python",
   "nbconvert_exporter": "python",
   "pygments_lexer": "ipython2",
   "version": "2.7.6"
  }
 },
 "nbformat": 4,
 "nbformat_minor": 2
}
